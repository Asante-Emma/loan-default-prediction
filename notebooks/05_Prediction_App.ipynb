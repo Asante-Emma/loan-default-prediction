{
 "cells": [
  {
   "cell_type": "code",
   "execution_count": 1,
   "id": "7d87cd2b",
   "metadata": {},
   "outputs": [],
   "source": [
    "import joblib\n",
    "import pandas as pd"
   ]
  },
  {
   "cell_type": "markdown",
   "id": "91af1f3f",
   "metadata": {},
   "source": [
    "### Load Artifacts"
   ]
  },
  {
   "cell_type": "code",
   "execution_count": 2,
   "id": "88995899",
   "metadata": {},
   "outputs": [],
   "source": [
    "# Load model, scaler, and feature columns\n",
    "model = joblib.load('../models/final_random_forest_model.joblib')\n",
    "encoder = joblib.load('../models/one_hot_encoder.joblib')\n",
    "scaler = joblib.load('../models/standard_scaler.joblib')\n",
    "feature_columns = joblib.load('../models/feature_columns.joblib')"
   ]
  },
  {
   "cell_type": "markdown",
   "id": "70adb8ac",
   "metadata": {},
   "source": [
    "### Define Preprocessing Function"
   ]
  },
  {
   "cell_type": "code",
   "execution_count": 3,
   "id": "6e7d5505",
   "metadata": {},
   "outputs": [],
   "source": [
    "# Define the preprocess_input function\n",
    "def preprocess_input(data):\n",
    "    df = pd.DataFrame([data])\n",
    "\n",
    "    # Select categorical and numeric columns\n",
    "    categorical_cols = ['person_home_ownership', 'loan_intent', 'loan_grade', 'cb_person_default_on_file']\n",
    "    numeric_cols = [\n",
    "        'person_age', 'person_income', 'person_emp_length',\n",
    "        'loan_amnt', 'loan_int_rate', 'loan_percent_income',\n",
    "        'cb_person_cred_hist_length'\n",
    "    ]\n",
    "\n",
    "    # Encode categorical variables using saved encoder\n",
    "    cat_encoded = encoder.transform(df[categorical_cols])\n",
    "    cat_encoded_df = pd.DataFrame(cat_encoded, columns=encoder.get_feature_names_out(categorical_cols))\n",
    "\n",
    "    # Concatenate with numeric\n",
    "    numeric_df = df[numeric_cols].reset_index(drop=True)\n",
    "    full_df = pd.concat([numeric_df, cat_encoded_df], axis=1)\n",
    "\n",
    "    # Align columns with training feature columns\n",
    "    for col in feature_columns:\n",
    "        if col not in full_df.columns:\n",
    "            full_df[col] = 0  # add missing columns as zero\n",
    "\n",
    "    full_df = full_df[feature_columns]  # ensure correct order\n",
    "\n",
    "    # Scale numeric features\n",
    "    full_df[numeric_cols] = scaler.transform(full_df[numeric_cols])\n",
    "\n",
    "    return full_df"
   ]
  },
  {
   "cell_type": "markdown",
   "id": "1d6bc7a8",
   "metadata": {},
   "source": [
    "### Example Input"
   ]
  },
  {
   "cell_type": "code",
   "execution_count": 4,
   "id": "91c05df2",
   "metadata": {},
   "outputs": [
    {
     "name": "stdout",
     "output_type": "stream",
     "text": [
      "Prediction: Non-Default\n",
      "Probability of Default: 7.50%\n"
     ]
    }
   ],
   "source": [
    "input_data = {\n",
    "    'person_age': 35,\n",
    "    'person_income': 60000,\n",
    "    'person_emp_length': 5,\n",
    "    'loan_amnt': 15000,\n",
    "    'loan_int_rate': 10.5,\n",
    "    'loan_percent_income': 0.25,\n",
    "    'cb_person_cred_hist_length': 4,\n",
    "    'person_home_ownership': 'RENT',\n",
    "    'loan_intent': 'PERSONAL',\n",
    "    'loan_grade': 'C',\n",
    "    'cb_person_default_on_file': 'N'\n",
    "}\n",
    "\n",
    "X_input = preprocess_input(input_data)\n",
    "prediction = model.predict(X_input)[0]\n",
    "probability = model.predict_proba(X_input)[0][1]\n",
    "\n",
    "print(f\"Prediction: {'Default' if prediction == 1 else 'Non-Default'}\")\n",
    "print(f\"Probability of Default: {probability:.2%}\")"
   ]
  },
  {
   "cell_type": "code",
   "execution_count": null,
   "id": "21f035f6",
   "metadata": {},
   "outputs": [],
   "source": []
  }
 ],
 "metadata": {
  "kernelspec": {
   "display_name": "deep_learning",
   "language": "python",
   "name": "python3"
  },
  "language_info": {
   "codemirror_mode": {
    "name": "ipython",
    "version": 3
   },
   "file_extension": ".py",
   "mimetype": "text/x-python",
   "name": "python",
   "nbconvert_exporter": "python",
   "pygments_lexer": "ipython3",
   "version": "3.8.19"
  }
 },
 "nbformat": 4,
 "nbformat_minor": 5
}
